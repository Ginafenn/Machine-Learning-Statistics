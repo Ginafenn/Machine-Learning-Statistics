{
 "cells": [
  {
   "cell_type": "markdown",
   "metadata": {},
   "source": [
    "# Machine Learning and Statics\n",
    "\n",
    "Author: Regina Fennessy\n"
   ]
  },
  {
   "cell_type": "markdown",
   "metadata": {},
   "source": [
    "### Task 1\n",
    "\n",
    "> Write a function sqrt(x) to approximate the square root of a floating point number x without using the power operator or a package.\n",
    "\n",
    "> Rather, you should use the Newton’s method. Start with an initial guess for the square root called z0. You then repeatedly improve it using the following formula, until the difference between some previous guess zi and the next zi+1 is less than some threshold, say 0.01."
   ]
  },
  {
   "cell_type": "code",
   "execution_count": 11,
   "metadata": {},
   "outputs": [
    {
     "data": {
      "text/plain": [
       "4.001219512195122"
      ]
     },
     "execution_count": 11,
     "metadata": {},
     "output_type": "execute_result"
    }
   ],
   "source": [
    "# Function\n",
    "\n",
    "def sqrt(x):\n",
    "    # 1st guess for the square root.\n",
    "    z = x / 2.0\n",
    "    \n",
    "    # Define treshold\n",
    "    threshold = 0.01\n",
    "    \n",
    "    # Using a loop \n",
    "    while True:\n",
    "        # Using Newton's method\n",
    "        z = z - (((z * z) - x) / (2 * z))\n",
    "        \n",
    "        # Checking to if less than 0.01\n",
    "        if abs(z * z - x) < threshold:\n",
    "            break\n",
    "    \n",
    "    return z\n",
    "\n",
    "# Testing the function\n",
    "x = 16.0\n",
    "\n",
    "result = sqrt(x)\n",
    "result\n"
   ]
  },
  {
   "cell_type": "code",
   "execution_count": 14,
   "metadata": {},
   "outputs": [
    {
     "data": {
      "text/plain": [
       "4.0"
      ]
     },
     "execution_count": 14,
     "metadata": {},
     "output_type": "execute_result"
    }
   ],
   "source": [
    "# Checking against pythons value\n",
    "16**0.5\n"
   ]
  },
  {
   "cell_type": "markdown",
   "metadata": {},
   "source": [
    "## End"
   ]
  },
  {
   "cell_type": "markdown",
   "metadata": {},
   "source": [
    "# "
   ]
  },
  {
   "cell_type": "markdown",
   "metadata": {},
   "source": []
  }
 ],
 "metadata": {
  "kernelspec": {
   "display_name": "Python 3 (ipykernel)",
   "language": "python",
   "name": "python3"
  },
  "language_info": {
   "codemirror_mode": {
    "name": "ipython",
    "version": 3
   },
   "file_extension": ".py",
   "mimetype": "text/x-python",
   "name": "python",
   "nbconvert_exporter": "python",
   "pygments_lexer": "ipython3",
   "version": "3.9.7"
  }
 },
 "nbformat": 4,
 "nbformat_minor": 2
}
